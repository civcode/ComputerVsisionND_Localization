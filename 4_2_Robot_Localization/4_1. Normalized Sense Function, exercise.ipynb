{
 "cells": [
  {
   "cell_type": "markdown",
   "metadata": {},
   "source": [
    "# Normalized Sense Function\n",
    "\n",
    "In this notebook, let's go over the steps a robot takes to help localize itself from an initial, uniform distribution to sensing and updating that distribution and finally normalizing that distribution.\n",
    "\n",
    "1. The robot starts off knowing nothing; the robot is equally likely to be anywhere and so `p` is a uniform distribution.\n",
    "2. Then the robot senses a grid color: red or green, and updates this distribution `p` according to the values of pHit and pMiss.\n",
    "3. **We normalize `p` such that its components sum to 1.**\n",
    "\n",
    "<img src='images/robot_sensing.png' width=50% height=50% />\n"
   ]
  },
  {
   "cell_type": "code",
   "execution_count": 1,
   "metadata": {},
   "outputs": [],
   "source": [
    "# importing resources\n",
    "import matplotlib.pyplot as plt\n",
    "import numpy as np"
   ]
  },
  {
   "cell_type": "markdown",
   "metadata": {},
   "source": [
    "A helper function for visualizing a distribution."
   ]
  },
  {
   "cell_type": "code",
   "execution_count": 2,
   "metadata": {},
   "outputs": [],
   "source": [
    "def display_map(grid, bar_width=1):\n",
    "    if(len(grid) > 0):\n",
    "        x_labels = range(len(grid))\n",
    "        plt.bar(x_labels, height=grid, width=bar_width, color='b')\n",
    "        plt.xlabel('Grid Cell')\n",
    "        plt.ylabel('Probability')\n",
    "        plt.ylim(0, 1) # range of 0-1 for probability values \n",
    "        plt.title('Probability of the robot being at each cell in the grid')\n",
    "        plt.xticks(np.arange(min(x_labels), max(x_labels)+1, 1))\n",
    "        plt.show()\n",
    "    else:\n",
    "        print('Grid is empty')\n"
   ]
  },
  {
   "cell_type": "markdown",
   "metadata": {
    "collapsed": true,
    "jupyter": {
     "outputs_hidden": true
    }
   },
   "source": [
    "### QUIZ: Modify your code so that it normalizes the output for the sense function. \n",
    "\n",
    "This means that the entries in `q` should sum to one.\n",
    "\n",
    "Note that `pHit` refers to the probability that the robot correctly senses the color of the square it is on, so if a robot senses red *and* is on a red square, we'll multiply the current location probability (0.2) with pHit. Same goes for if a robot senses green *and* is on a green square."
   ]
  },
  {
   "cell_type": "code",
   "execution_count": 3,
   "metadata": {},
   "outputs": [
    {
     "name": "stdout",
     "output_type": "stream",
     "text": [
      "[0.11111111111111113, 0.3333333333333333, 0.3333333333333333, 0.11111111111111113, 0.11111111111111113]\n"
     ]
    },
    {
     "data": {
      "image/png": "[encoded data removed]",
      "text/plain": [
       "<Figure size 640x480 with 1 Axes>"
      ]
     },
     "metadata": {},
     "output_type": "display_data"
    }
   ],
   "source": [
    "# given initial variables\n",
    "p=[0.2, 0.2, 0.2, 0.2, 0.2]\n",
    "# the color of each grid cell in the 1D world\n",
    "world=['green', 'red', 'red', 'green', 'green']\n",
    "# Z, the sensor reading ('red' or 'green')\n",
    "Z = 'red'\n",
    "pHit = 0.6\n",
    "pMiss = 0.2\n",
    "\n",
    "## Complete this function\n",
    "def sense(p, Z):\n",
    "    ''' Takes in a current probability distribution, p, and a sensor reading, Z.\n",
    "        Returns a *normalized* distribution after the sensor measurement has been made, q.\n",
    "        This should be accurate whether Z is 'red' or 'green'. '''\n",
    "    \n",
    "    q=[]\n",
    "    \n",
    "    ## normalize q\n",
    "    \n",
    "    # loop through all grid cells\n",
    "    for i in range(len(p)):\n",
    "        # check if the sensor reading is equal to the color of the grid cell\n",
    "        # if so, hit = 1\n",
    "        # if not, hit = 0\n",
    "        hit = (Z == world[i])\n",
    "        q.append(p[i] * (hit * pHit + (1-hit) * pMiss))\n",
    "\n",
    "    s = sum(q)\n",
    "    for i in range(len(q)):\n",
    "        q[i] = q[i] / s\n",
    "        \n",
    "    return q\n",
    "\n",
    "q = sense(p,Z)\n",
    "print(q)\n",
    "display_map(q)"
   ]
  },
  {
   "cell_type": "code",
   "execution_count": null,
   "metadata": {},
   "outputs": [],
   "source": []
  },
  {
   "cell_type": "code",
   "execution_count": null,
   "metadata": {},
   "outputs": [],
   "source": []
  }
 ],
 "metadata": {
  "kernelspec": {
   "display_name": "Python 3 (ipykernel)",
   "language": "python",
   "name": "python3"
  },
  "language_info": {
   "codemirror_mode": {
    "name": "ipython",
    "version": 3
   },
   "file_extension": ".py",
   "mimetype": "text/x-python",
   "name": "python",
   "nbconvert_exporter": "python",
   "pygments_lexer": "ipython3",
   "version": "3.13.2"
  }
 },
 "nbformat": 4,
 "nbformat_minor": 4
}
